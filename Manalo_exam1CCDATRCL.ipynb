{
  "cells": [
    {
      "cell_type": "markdown",
      "metadata": {
        "id": "view-in-github"
      },
      "source": [
        "<a href=\"https://colab.research.google.com/github/robitussin/CCDATRCL_EXAM/blob/main/exam1.ipynb\" target=\"_parent\"><img src=\"https://colab.research.google.com/assets/colab-badge.svg\" alt=\"Open In Colab\"/></a>"
      ]
    },
    {
      "cell_type": "markdown",
      "metadata": {
        "id": "yaz2B0KGFehP"
      },
      "source": [
        "# Midterm Exam 💛💙"
      ]
    },
    {
      "cell_type": "markdown",
      "metadata": {
        "id": "_DmK1ONEFehQ"
      },
      "source": [
        "**Instructions** ❗️❗️\n",
        "\n",
        "❌ Do not remove or modify the notebook **sections**, **subsections**, **exam questions** or **any text** in this python notebook\n",
        "\n",
        "✔️ Put your answer in the designated cells below each question"
      ]
    },
    {
      "cell_type": "markdown",
      "metadata": {
        "id": "TMCAXKWCFehR"
      },
      "source": [
        "## Search"
      ]
    },
    {
      "cell_type": "code",
      "execution_count": 2,
      "metadata": {
        "id": "Fy8nEBRRFehR"
      },
      "outputs": [],
      "source": [
        "def linearSearch(my_list, number):\n",
        "\n",
        "    index = 0\n",
        "\n",
        "    for i in my_list:\n",
        "\n",
        "        if my_list[index] == number:\n",
        "            return index\n",
        "\n",
        "        index = index + 1\n",
        "\n",
        "    return -1"
      ]
    },
    {
      "cell_type": "markdown",
      "metadata": {
        "id": "AjAevpueFehS"
      },
      "source": [
        "1. Using **linear search**, write a `findLargestIncrease()` function to find the largest increase in value between two adjacent numbers in your student number `(10 points)`\n",
        "\n",
        "    **Example:**\n",
        "\n",
        "    student_number = [2,0,2,2,6,2,5,1,9,3]\n",
        "\n",
        "    **Expected Output:**\n",
        "\n",
        "    findLargestIncrease(student_number)\n",
        "\n",
        "    Output: Between 1 and 9\n",
        "\n",
        "    **Explanation:**\n",
        "\n",
        "    From this student_number, the largest increase happened from number 1 to number 9"
      ]
    },
    {
      "cell_type": "code",
      "execution_count": 25,
      "metadata": {
        "id": "JE8nEfyJFehS",
        "colab": {
          "base_uri": "https://localhost:8080/"
        },
        "outputId": "376f8869-9291-4f0b-b599-5bc38e48d322"
      },
      "outputs": [
        {
          "output_type": "stream",
          "name": "stdout",
          "text": [
            "Output: Between 1 and 9\n"
          ]
        }
      ],
      "source": [
        "# put your answer here\n",
        "def linearSearch(my_list, number):\n",
        "    index = 0\n",
        "    for i in my_list:\n",
        "        if my_list[index] == number:\n",
        "            return index\n",
        "        index = index + 1\n",
        "    return -1\n",
        "\n",
        "def findLargestIncrease(student_number):\n",
        "    if len(student_number) < 2:\n",
        "        return \"Not enough numbers to find an increase.\"\n",
        "\n",
        "    max_increase_index = max(range(len(student_number) - 1), key=lambda i: student_number[i + 1] - student_number[i])\n",
        "    start_num = student_number[max_increase_index]\n",
        "    end_num = student_number[max_increase_index + 1]\n",
        "\n",
        "    return f\"Between {start_num} and {end_num}\"\n",
        "\n",
        "# Example usage:\n",
        "student_number = [2, 0, 2, 2, 6, 2, 5, 1, 9, 3]\n",
        "result = findLargestIncrease(student_number)\n",
        "print(\"Output:\", result)"
      ]
    },
    {
      "cell_type": "markdown",
      "metadata": {
        "id": "nMyr1fNyFehS"
      },
      "source": [
        "2. Using **linear search**, write a `findLargestDecrease()` function to find the largest decrease in value between two adjacent numbers in your student number `(10 points)`\n",
        "\n",
        "    **Example:**\n",
        "\n",
        "    student_number = [2,0,2,2,6,2,5,1,9,3]\n",
        "\n",
        "    **Expected Output:**\n",
        "\n",
        "    findLargestDecrease(student_number)\n",
        "\n",
        "    Output: Between 9 and 3\n",
        "\n",
        "    **Explanation:**\n",
        "\n",
        "    From this student_number, the largest decrease happened from number 9 to number 3"
      ]
    },
    {
      "cell_type": "code",
      "execution_count": 26,
      "metadata": {
        "id": "bfMfQVbVFehS",
        "colab": {
          "base_uri": "https://localhost:8080/"
        },
        "outputId": "2e8d4ffb-0252-4e3f-e180-82b4c767162b"
      },
      "outputs": [
        {
          "output_type": "stream",
          "name": "stdout",
          "text": [
            "Result: Between 9 and 3\n"
          ]
        }
      ],
      "source": [
        "# put your answer here\n",
        "def linearSearch(my_list, number):\n",
        "    index = 0\n",
        "    while index < len(my_list):\n",
        "        if my_list[index] == number:\n",
        "            return index\n",
        "        index += 1\n",
        "    return -1\n",
        "\n",
        "def findLargestDecrease(student_number):\n",
        "    if len(student_number) < 2:\n",
        "        return \"Insufficient numbers to detect a decrease.\"\n",
        "\n",
        "    max_decrease_index = max(range(len(student_number) - 1), key=lambda i: student_number[i] - student_number[i + 1])\n",
        "    start_index = linearSearch(student_number, student_number[max_decrease_index])\n",
        "    end_index = linearSearch(student_number, student_number[max_decrease_index + 1])\n",
        "\n",
        "    return f\"Between {student_number[start_index]} and {student_number[end_index]}\"\n",
        "\n",
        "# Example usage:\n",
        "student_number = [2, 0, 2, 2, 6, 2, 5, 1, 9, 3]\n",
        "result = findLargestDecrease(student_number)\n",
        "print(\"Result:\", result)"
      ]
    },
    {
      "cell_type": "markdown",
      "metadata": {
        "id": "NtKSQn9QFehS"
      },
      "source": [
        "## Linked List"
      ]
    },
    {
      "cell_type": "code",
      "execution_count": 4,
      "metadata": {
        "id": "0HP5zyJcFehS"
      },
      "outputs": [],
      "source": [
        "class Node:\n",
        "\n",
        "    def __init__(self, data):\n",
        "        self.data = data\n",
        "        self.next = None  # null"
      ]
    },
    {
      "cell_type": "code",
      "execution_count": 5,
      "metadata": {
        "id": "A-8Uefe7FehS"
      },
      "outputs": [],
      "source": [
        "class LinkedList:\n",
        "\n",
        "    def __init__(self):\n",
        "        self.head = None\n",
        "\n",
        "    def traverse(self, node):\n",
        "        while node:\n",
        "            print(node.data, end=\" -> \")\n",
        "            node = node.next"
      ]
    },
    {
      "cell_type": "markdown",
      "metadata": {
        "id": "uPgIJJuSFehT"
      },
      "source": [
        "**Instructions** ❗️❗️\n",
        "\n",
        "Use the pre-defined linked list class/functions to create a linked list"
      ]
    },
    {
      "cell_type": "markdown",
      "metadata": {
        "id": "WIwpW7Q2FehT"
      },
      "source": [
        "1. Create a Singly linked list named **num_list** and print all of its elements. `(5 points)`\n",
        "\n",
        "- **num_list** should contain all digits of your student number.\n",
        "\n",
        "    **Expected Output:**\n",
        "\n",
        "    print(num_list)\n",
        "\n",
        "    [2, 0, 2, 2, 1, 2, 3, 4, 5, 6]"
      ]
    },
    {
      "cell_type": "code",
      "execution_count": 55,
      "metadata": {
        "id": "Lihv0JPiFehT",
        "colab": {
          "base_uri": "https://localhost:8080/"
        },
        "outputId": "7ca7cca9-5fa1-46f1-89b5-d33ce3e21de0"
      },
      "outputs": [
        {
          "output_type": "stream",
          "name": "stdout",
          "text": [
            "2 , 0 , 2 , 1 , 1 , 0 , 2 , 2 , 5 , 6 , "
          ]
        }
      ],
      "source": [
        "# put your answer here\n",
        "class Node:\n",
        "    def __init__(self, data):\n",
        "        self.data = data\n",
        "        self.next = None\n",
        "\n",
        "class LinkedList:\n",
        "    def __init__(self):\n",
        "        self.head = None\n",
        "\n",
        "    def append(self, data):\n",
        "        new_node = Node(data)\n",
        "        new_node.next = self.head\n",
        "        self.head = new_node\n",
        "\n",
        "# Create a singly linked list num_list\n",
        "num_list = LinkedList()\n",
        "\n",
        "# Add digits from your student number to the linked list\n",
        "student_number = [6, 5, 2, 2, 0, 1, 1, 2, 0, 2]\n",
        "for digit in student_number:\n",
        "    num_list.append(digit)\n",
        "\n",
        "# Print all elements of the linked list\n",
        "current = num_list.head\n",
        "while current:\n",
        "    print(current.data, end=\" , \")\n",
        "    current = current.next\n"
      ]
    },
    {
      "cell_type": "markdown",
      "metadata": {
        "id": "dqA2UYrYFehT"
      },
      "source": [
        "2. Write a `hasPrime()` function to test whether a prime number is in the last six digits of **num_list**. `(5 points)`\n",
        "\n",
        "- If a prime number is in the last six digits of **num_list**, the method should return **true**\n",
        "\n",
        "- If a prime number is not in the last six digits of **num_list**, the method should return **false**\n",
        "\n",
        "    **Expected Output:**\n",
        "\n",
        "    hasPrime(num_list)\n",
        "\n",
        "    True"
      ]
    },
    {
      "cell_type": "code",
      "execution_count": 38,
      "metadata": {
        "id": "GYwsQNz5FehT",
        "colab": {
          "base_uri": "https://localhost:8080/"
        },
        "outputId": "d7d6a2f6-4061-40e8-dc9b-cc0b89446036"
      },
      "outputs": [
        {
          "output_type": "stream",
          "name": "stdout",
          "text": [
            "Has prime in last six digits: True\n"
          ]
        }
      ],
      "source": [
        "# put your answer here\n",
        "class LinkedList:\n",
        "    def __init__(self):\n",
        "        self.head = None\n",
        "\n",
        "    def traverse(self, node):\n",
        "        while node:\n",
        "            print(node.data, end=\" -> \")\n",
        "            node = node.next\n",
        "        print(\"None\")\n",
        "\n",
        "def is_prime(num):\n",
        "    if num < 2:\n",
        "        return False\n",
        "    for i in range(2, int(num**0.5) + 1):\n",
        "        if num % i == 0:\n",
        "            return False\n",
        "    return True\n",
        "\n",
        "def hasPrime(num_list):\n",
        "    last_six_digits = []\n",
        "    current_node = num_list.head\n",
        "\n",
        "    while current_node:\n",
        "        last_six_digits.append(current_node.data)\n",
        "        if len(last_six_digits) > 6:\n",
        "            last_six_digits.pop(0)\n",
        "        current_node = current_node.next\n",
        "\n",
        "    return any(is_prime(digit) for digit in last_six_digits)\n",
        "\n",
        "# Create a singly linked list num_list (code not shown here)\n",
        "\n",
        "# Call hasPrime function and print the result\n",
        "result = hasPrime(num_list)\n",
        "print(\"Has prime in last six digits:\", result)"
      ]
    },
    {
      "cell_type": "markdown",
      "metadata": {
        "id": "5Qb0BOiwFehT"
      },
      "source": [
        "3. Write a `removeZeroes()` function to remove all occurrences of zeroes in **num_list**. `(5 points)`\n",
        "\n",
        "- If a zero is in **num_list**, return **num_list**\n",
        "\n",
        "- If there are no zeroes in **num_list**, return **\"no zeros found\"**\n",
        "\n",
        "    **Expected Output:**\n",
        "\n",
        "    removeZeroes(num_list)\n",
        "\n",
        "    [2, 2, 1, 2, 3, 4, 5, 6]"
      ]
    },
    {
      "cell_type": "code",
      "execution_count": 56,
      "metadata": {
        "id": "k1vAHUYuFehT",
        "colab": {
          "base_uri": "https://localhost:8080/"
        },
        "outputId": "8cbc0cff-4930-4719-a2ab-2114afc49bb2"
      },
      "outputs": [
        {
          "output_type": "stream",
          "name": "stdout",
          "text": [
            "2 , 2 , 1 , 1 , 2 , 2 , 5 , 6 , \n"
          ]
        }
      ],
      "source": [
        "# put your answer here\n",
        "class Node:\n",
        "    def __init__(self, data):\n",
        "        self.data = data\n",
        "        self.next = None\n",
        "\n",
        "class LinkedList:\n",
        "    def __init__(self):\n",
        "        self.head = None\n",
        "\n",
        "    def append(self, data):\n",
        "        new_node = Node(data)\n",
        "        new_node.next = self.head\n",
        "        self.head = new_node\n",
        "\n",
        "def removeZeroes(num_list):\n",
        "    current = num_list.head\n",
        "    prev = None\n",
        "\n",
        "    while current:\n",
        "        if current.data == 0:\n",
        "            if prev:\n",
        "                prev.next = current.next\n",
        "            else:\n",
        "                num_list.head = current.next\n",
        "        else:\n",
        "            prev = current\n",
        "        current = current.next\n",
        "\n",
        "    return num_list.head if num_list.head else \"no zeros found\"\n",
        "\n",
        "# Create a singly linked list num_list\n",
        "num_list = LinkedList()\n",
        "\n",
        "# Add digits from your student number to the linked list\n",
        "student_number = [6, 5, 2, 2, 0, 1, 1, 2, 0, 2]\n",
        "for digit in student_number:\n",
        "    num_list.append(digit)\n",
        "\n",
        "# Remove zeroes from the linked list and print the result\n",
        "result = removeZeroes(num_list)\n",
        "\n",
        "if result == \"no zeros found\":\n",
        "    print(result)\n",
        "else:\n",
        "    # Print all elements of the modified linked list\n",
        "    current = result\n",
        "    while current:\n",
        "        print(current.data, end=\" , \")\n",
        "        current = current.next\n",
        "    print()"
      ]
    },
    {
      "cell_type": "markdown",
      "metadata": {
        "id": "SKAlpglNFehT"
      },
      "source": [
        "4. Insert a dash symbol between the 4th and 5th digit in **num_list**. `(5 points)`\n",
        "\n",
        "    **Expected Output:**\n",
        "\n",
        "    print(num_list)\n",
        "\n",
        "    [2, 0, 2, 2, \"-\", 1, 2, 3, 4, 5, 6]"
      ]
    },
    {
      "cell_type": "code",
      "execution_count": 57,
      "metadata": {
        "id": "vF7fimZ-FehT",
        "colab": {
          "base_uri": "https://localhost:8080/"
        },
        "outputId": "c55579e2-ae78-47db-8dd2-0cc25bc483d8"
      },
      "outputs": [
        {
          "output_type": "stream",
          "name": "stdout",
          "text": [
            "2,0,2,1,-,1,0,2,2,5,6,\n"
          ]
        }
      ],
      "source": [
        "# put your answer here\n",
        "class Node:\n",
        "    def __init__(self, data):\n",
        "        self.data = data\n",
        "        self.next = None\n",
        "\n",
        "class LinkedList:\n",
        "    def __init__(self):\n",
        "        self.head = None\n",
        "\n",
        "    def append(self, data):\n",
        "        new_node = Node(data)\n",
        "        new_node.next = self.head\n",
        "        self.head = new_node\n",
        "\n",
        "    def insert_dash(self, position, data):\n",
        "        new_node = Node(data)\n",
        "        current = self.head\n",
        "        prev = None\n",
        "        count = 0\n",
        "\n",
        "        while current and count < position:\n",
        "            prev = current\n",
        "            current = current.next\n",
        "            count += 1\n",
        "\n",
        "        if prev:\n",
        "            prev.next = new_node\n",
        "        else:\n",
        "            self.head = new_node\n",
        "        new_node.next = current\n",
        "\n",
        "# Create a singly linked list num_list\n",
        "num_list = LinkedList()\n",
        "\n",
        "# Add digits from your student number to the linked list\n",
        "student_number = [6, 5, 2, 2, 0, 1, 1, 2, 0, 2]\n",
        "for digit in student_number:\n",
        "    num_list.append(digit)\n",
        "\n",
        "# Insert a dash symbol between the 4th and 5th digit\n",
        "num_list.insert_dash(4, \"-\")\n",
        "\n",
        "# Print all elements of the modified linked list\n",
        "current = num_list.head\n",
        "while current:\n",
        "    print(current.data, end= \",\" )\n",
        "    current = current.next\n",
        "print()"
      ]
    },
    {
      "cell_type": "markdown",
      "metadata": {
        "id": "KkC-LgdxFehT"
      },
      "source": [
        "## Stack"
      ]
    },
    {
      "cell_type": "code",
      "execution_count": 70,
      "metadata": {
        "id": "UYTqB1u_FehU"
      },
      "outputs": [],
      "source": [
        "# Creating a stack\n",
        "def create_stack():\n",
        "    stack = []\n",
        "    return stack\n",
        "\n",
        "\n",
        "def print_stack(stack):\n",
        "\n",
        "    if (check_empty(stack)):\n",
        "        return \"stack is empty\"\n",
        "\n",
        "    # Create a copy of the stack and reverse the elements\n",
        "    tempStack = stack.copy()\n",
        "    tempStack.reverse()\n",
        "\n",
        "    # Print all elements using a loop\n",
        "    for i in tempStack:\n",
        "        print(i)\n",
        "\n",
        "    # Delete the copy to free up memory\n",
        "    del tempStack\n",
        "\n",
        "# Creating an empty stack\n",
        "\n",
        "\n",
        "def check_empty(stack):\n",
        "    return len(stack) == 0\n",
        "\n",
        "\n",
        "# Adding items into the stack\n",
        "def push(stack, item):\n",
        "    stack.append(item)\n",
        "    print(\"pushed item: \" + item)\n",
        "\n",
        "\n",
        "# Removing an element from the stack\n",
        "def pop(stack):\n",
        "    if (check_empty(stack)):\n",
        "        return \"stack is empty\"\n",
        "\n",
        "    return stack.pop()\n",
        "\n",
        "\n",
        "def peek(stack):\n",
        "\n",
        "    # Use negative indexing to display the last element of the list\n",
        "    print(stack[-1])"
      ]
    },
    {
      "cell_type": "markdown",
      "metadata": {
        "id": "wLAQchs8FehU"
      },
      "source": [
        "**Instructions** ❗️❗️\n",
        "\n",
        "Use the pre-defined stack class/functions to create a stack"
      ]
    },
    {
      "cell_type": "markdown",
      "metadata": {
        "id": "37cg9BoCFehU"
      },
      "source": [
        "1. Create two (2) stacks named **name_stack** and **num_stack** `(5 points)`\n",
        "\n",
        "- **name_stack** should contain all letters of your first name.\n",
        "- **num_stack** should contain all digits of your student number.\n",
        "\n",
        "    **Expected Output:**\n",
        "\n",
        "    print(name_stack)\n",
        "\n",
        "    ['E', 'L', 'I', 'Z', 'E', 'R']\n",
        "\n",
        "    print(num_stack)\n",
        "\n",
        "    [2,0,2,2,1,2,3,4,5,6]"
      ]
    },
    {
      "cell_type": "code",
      "execution_count": 76,
      "metadata": {
        "id": "HlUIUQzQFehU",
        "colab": {
          "base_uri": "https://localhost:8080/"
        },
        "outputId": "0e1cd13f-a239-40c8-e5ce-268ffbcfe5f9"
      },
      "outputs": [
        {
          "output_type": "stream",
          "name": "stdout",
          "text": [
            "name_stack:\n",
            "['J', 'O', 'H', 'N', 'C', 'H', 'R', 'I', 'S', 'T', 'I', 'A', 'N']\n",
            "num_stack:\n",
            "[2, 0, 2, 1, 1, 0, 2, 2, 5, 6]\n"
          ]
        }
      ],
      "source": [
        "# put your answer here\n",
        "# Creating a stack\n",
        "def create_stack():\n",
        "    stack = []\n",
        "    return stack\n",
        "\n",
        "# Adding items into the stack\n",
        "def push(stack, item):\n",
        "    stack.append(item)\n",
        "\n",
        "# Creating two stacks\n",
        "name_stack = create_stack()\n",
        "num_stack = create_stack()\n",
        "\n",
        "# Your first name\n",
        "first_name = \"JOHNCHRISTIAN\"\n",
        "\n",
        "# Your student number\n",
        "student_number = \"2021102256\"\n",
        "\n",
        "# Adding letters of your first name to name_stack\n",
        "for letter in first_name:\n",
        "    push(name_stack, letter)\n",
        "\n",
        "# Adding digits of your student number to num_stack\n",
        "for digit in student_number:\n",
        "    push(num_stack, int(digit))\n",
        "\n",
        "# Print the contents of the stacks\n",
        "print(\"name_stack:\")\n",
        "print(name_stack)\n",
        "\n",
        "print(\"num_stack:\")\n",
        "print(num_stack)"
      ]
    },
    {
      "cell_type": "markdown",
      "metadata": {
        "id": "8cySe9LXFehU"
      },
      "source": [
        "2. Create a stack named **my_stack** that follows the following format: `(5 points)`\n",
        "\n",
        "- The first element should be the **5th digit in your student number**\n",
        "- The succeeding elements should be the letters of your **first name**\n",
        "- The last element should be the **last digit of your student number**\n",
        "\n",
        "    **Expected Output:**\n",
        "\n",
        "    my_stack = [1, E, L, I, Z, E, R, 6]"
      ]
    },
    {
      "cell_type": "code",
      "execution_count": 73,
      "metadata": {
        "id": "bEnCoAhjFehU",
        "colab": {
          "base_uri": "https://localhost:8080/"
        },
        "outputId": "9bee5da0-fa18-423b-fd2d-116e497c11dd"
      },
      "outputs": [
        {
          "output_type": "stream",
          "name": "stdout",
          "text": [
            "pushed item: 1\n",
            "pushed item: J\n",
            "pushed item: O\n",
            "pushed item: H\n",
            "pushed item: N\n",
            "pushed item: C\n",
            "pushed item: H\n",
            "pushed item: R\n",
            "pushed item: I\n",
            "pushed item: S\n",
            "pushed item: T\n",
            "pushed item: I\n",
            "pushed item: A\n",
            "pushed item: N\n",
            "pushed item: 6\n",
            "my_stack = [1, 'J', 'O', 'H', 'N', 'C', 'H', 'R', 'I', 'S', 'T', 'I', 'A', 'N', 6]\n"
          ]
        }
      ],
      "source": [
        "# put your answer here\n",
        "# Creating a stack\n",
        "def create_stack():\n",
        "    stack = []\n",
        "    return stack\n",
        "\n",
        "def print_stack(stack):\n",
        "    if (check_empty(stack)):\n",
        "        return \"stack is empty\"\n",
        "\n",
        "    # Create a copy of the stack and reverse the elements\n",
        "    tempStack = stack.copy()\n",
        "    tempStack.reverse()\n",
        "\n",
        "    # Print all elements using a loop\n",
        "    for i in tempStack:\n",
        "        print(i)\n",
        "\n",
        "    # Delete the copy to free up memory\n",
        "    del tempStack\n",
        "\n",
        "# Creating an empty stack\n",
        "def check_empty(stack):\n",
        "    return len(stack) == 0\n",
        "\n",
        "# Adding items into the stack\n",
        "def push(stack, item):\n",
        "    stack.append(item)\n",
        "    print(\"pushed item: \" + str(item))\n",
        "\n",
        "# Removing an element from the stack\n",
        "def pop(stack):\n",
        "    if (check_empty(stack)):\n",
        "        return \"stack is empty\"\n",
        "\n",
        "    return stack.pop()\n",
        "\n",
        "def peek(stack):\n",
        "    # Use negative indexing to display the last element of the list\n",
        "    print(stack[-1])\n",
        "\n",
        "# Create an empty stack\n",
        "my_stack = create_stack()\n",
        "\n",
        "# Your student number\n",
        "student_number = \"2021102256\"\n",
        "\n",
        "# Your first name\n",
        "first_name = \"JOHNCHRISTIAN\"\n",
        "\n",
        "# Add the 5th digit of your student number to the stack\n",
        "push(my_stack, int(student_number[4]))\n",
        "\n",
        "# Add the letters of your first name to the stack\n",
        "for letter in first_name:\n",
        "    push(my_stack, letter)\n",
        "\n",
        "# Add the last digit of your student number to the stack\n",
        "push(my_stack, int(student_number[-1]))\n",
        "\n",
        "# Print the contents of my_stack\n",
        "print(\"my_stack =\", my_stack)\n"
      ]
    },
    {
      "cell_type": "markdown",
      "metadata": {
        "id": "8a8_KP5nFehU"
      },
      "source": [
        "3. Write a `verifyStack()` function that will take in `my_stack` and check if its format has been followed `(10 points)`\n",
        "\n",
        "- Return **True** if the format has been followed\n",
        "- Return **False** if the format was not followed\n",
        "- Verify the format by checking the contents of **my_stack** with **name_stack** and **num_stack**\n",
        "\n",
        "    **Expected Output:**\n",
        "\n",
        "    my_stack = [1, E, L, I, Z, E, R, 6]\n",
        "\n",
        "    verifyStack(my_stack)\n",
        "\n",
        "    True\n",
        "\n",
        "    my_stack = [1, S, L, I, Z, E, R, 7]\n",
        "\n",
        "    verifyStack(my_stack)\n",
        "\n",
        "    False"
      ]
    },
    {
      "cell_type": "code",
      "execution_count": 83,
      "metadata": {
        "id": "RdANSxD0FehU",
        "colab": {
          "base_uri": "https://localhost:8080/"
        },
        "outputId": "7f0c05f8-a295-40b8-d877-6da43be85d18"
      },
      "outputs": [
        {
          "output_type": "stream",
          "name": "stdout",
          "text": [
            "my_stack1 = [1, 'J', 'O', 'H', 'N', 'C', 'H', 'R', 'I', 'S', 'T', 'I', 'A', 'N', 6]\n",
            "verifyStack(my_stack1) = True\n",
            "\n",
            "my_stack2 = [1, 'N', 'A', 'I', 'T', 'S', 'I', 'R', 'H', 'C', 'N', 'H', 'O', 'J', 7]\n",
            "verifyStack(my_stack2) = False\n"
          ]
        }
      ],
      "source": [
        "# put your answer here\n",
        "# Creating a stack\n",
        "def create_stack():\n",
        "    stack = []\n",
        "    return stack\n",
        "\n",
        "def print_stack(stack):\n",
        "    if (check_empty(stack)):\n",
        "        return \"stack is empty\"\n",
        "\n",
        "    # Create a copy of the stack and reverse the elements\n",
        "    tempStack = stack.copy()\n",
        "    tempStack.reverse()\n",
        "\n",
        "    # Print all elements using a loop\n",
        "    for i in tempStack:\n",
        "        print(i)\n",
        "\n",
        "    # Delete the copy to free up memory\n",
        "    del tempStack\n",
        "\n",
        "# Creating an empty stack\n",
        "def check_empty(stack):\n",
        "    return len(stack) == 0\n",
        "\n",
        "# Adding items into the stack\n",
        "def push(stack, item):\n",
        "    stack.append(item)\n",
        "    print(\"pushed item: \" + str(item))\n",
        "\n",
        "# Removing an element from the stack\n",
        "def pop(stack):\n",
        "    if (check_empty(stack)):\n",
        "        return \"stack is empty\"\n",
        "\n",
        "    return stack.pop()\n",
        "\n",
        "def peek(stack):\n",
        "    # Use negative indexing to display the last element of the list\n",
        "    print(stack[-1])\n",
        "\n",
        "def verifyStack(my_stack):\n",
        "    # Your name and student number\n",
        "    first_name = \"JOHNCHRISTIAN\"\n",
        "    student_number = \"2021102256\"\n",
        "\n",
        "    # Creating expected name_stack and num_stack\n",
        "    name_stack = list(first_name)\n",
        "    num_stack = [int(digit) for digit in student_number]\n",
        "\n",
        "    # Check if my_stack format matches name_stack and num_stack\n",
        "    if my_stack == [num_stack[4]] + name_stack + [num_stack[-1]]:\n",
        "        return True\n",
        "    else:\n",
        "        return False\n",
        "\n",
        "# Create my_stack\n",
        "my_stack1 = [1, 'J', 'O', 'H', 'N', 'C', 'H', 'R', 'I', 'S', 'T', 'I', 'A', 'N', 6]\n",
        "my_stack2 = [1, 'N', 'A', 'I', 'T', 'S', 'I', 'R', 'H', 'C', 'N', 'H', 'O', 'J', 7]\n",
        "\n",
        "# Verify my_stack format\n",
        "print(\"my_stack1 =\", my_stack1)\n",
        "print(\"verifyStack(my_stack1) =\", verifyStack(my_stack1))\n",
        "print()\n",
        "print(\"my_stack2 =\", my_stack2)\n",
        "print(\"verifyStack(my_stack2) =\", verifyStack(my_stack2))\n"
      ]
    },
    {
      "cell_type": "markdown",
      "metadata": {
        "id": "UC5C64B2FehU"
      },
      "source": [
        "## Queue"
      ]
    },
    {
      "cell_type": "code",
      "execution_count": 14,
      "metadata": {
        "id": "NJJ0j0LHFehU"
      },
      "outputs": [],
      "source": [
        "class Queue:\n",
        "    def __init__(self):\n",
        "        self.queue = []\n",
        "\n",
        "    # Add an element\n",
        "    def enqueue(self, item):\n",
        "        self.queue.append(item)\n",
        "\n",
        "    # Remove an element\n",
        "    def dequeue(self):\n",
        "        if len(self.queue) < 1:\n",
        "            return None\n",
        "        return self.queue.pop(0)\n",
        "\n",
        "    # Display  the queue\n",
        "    def display(self):\n",
        "        print(self.queue)\n",
        "\n",
        "    def size(self):\n",
        "        return len(self.queue)\n",
        "\n",
        "    def peek(self):\n",
        "        return self.queue[0]"
      ]
    },
    {
      "cell_type": "markdown",
      "metadata": {
        "id": "80OekpbeFehV"
      },
      "source": [
        "**Instructions** ❗️❗️\n",
        "\n",
        "Use the pre-defined queue class/functions to create a Queue"
      ]
    },
    {
      "cell_type": "markdown",
      "metadata": {
        "id": "_Hf0OP5cFehV"
      },
      "source": [
        "1. Create a simple queue named **num_queue** `(5 points)`\n",
        "\n",
        "- **num_queue** should contain all digits of your student number.\n",
        "\n",
        "    **Expected Output:**\n",
        "\n",
        "    print(num_queue)\n",
        "\n",
        "    [2,0,2,2,1,2,3,4,5,6]"
      ]
    },
    {
      "cell_type": "code",
      "execution_count": 85,
      "metadata": {
        "id": "_mgmE4ArFehV",
        "colab": {
          "base_uri": "https://localhost:8080/"
        },
        "outputId": "3f96a478-270c-4714-a66e-1c67d5efb98a"
      },
      "outputs": [
        {
          "output_type": "stream",
          "name": "stdout",
          "text": [
            "[2, 0, 2, 1, 1, 0, 2, 2, 5, 6]\n"
          ]
        }
      ],
      "source": [
        "# put your answer here\n",
        "class Queue:\n",
        "    def __init__(self):\n",
        "        self.queue = []\n",
        "\n",
        "    # Add an element\n",
        "    def enqueue(self, item):\n",
        "        self.queue.append(item)\n",
        "\n",
        "    # Remove an element\n",
        "    def dequeue(self):\n",
        "        if len(self.queue) < 1:\n",
        "            return None\n",
        "        return self.queue.pop(0)\n",
        "\n",
        "    # Display the queue\n",
        "    def display(self):\n",
        "        print(self.queue)\n",
        "\n",
        "    def size(self):\n",
        "        return len(self.queue)\n",
        "\n",
        "    def peek(self):\n",
        "        return self.queue[0]\n",
        "\n",
        "# Creating an instance of the Queue class\n",
        "num_queue = Queue()\n",
        "\n",
        "# Your student number\n",
        "student_number = \"2021102256\"\n",
        "\n",
        "# Adding digits of your student number to num_queue\n",
        "for digit in student_number:\n",
        "    num_queue.enqueue(int(digit))\n",
        "\n",
        "# Print the contents of num_queue\n",
        "num_queue.display()"
      ]
    },
    {
      "cell_type": "markdown",
      "metadata": {
        "id": "1pHG8t6DFehV"
      },
      "source": [
        "2. Write a `getMax()` or `getMin()` function for **num_queue** `(5 points)`\n",
        "\n",
        "- If your student number ends with an odd number, create a `getMax()` function that will return the largest number in **num_queue**\n",
        "- If your student number ends with an even number, create a `getMin()` function that will return the lowest number in **num_queue**\n",
        "\n",
        "    **Expected Output for getMax():**\n",
        "\n",
        "    getMax(num_queue)\n",
        "\n",
        "    6\n",
        "\n",
        "    **Expected Output for getMin():**\n",
        "\n",
        "    getMin(num_queue)\n",
        "\n",
        "    0"
      ]
    },
    {
      "cell_type": "code",
      "execution_count": 88,
      "metadata": {
        "id": "itj2U610FehV",
        "colab": {
          "base_uri": "https://localhost:8080/"
        },
        "outputId": "118ded86-dd3b-4012-8a1a-a0a158707cc8"
      },
      "outputs": [
        {
          "output_type": "stream",
          "name": "stdout",
          "text": [
            "getMin(num_queue) = 0\n"
          ]
        }
      ],
      "source": [
        "# put your answer here\n",
        "class Queue:\n",
        "    def __init__(self):\n",
        "        self.queue = []\n",
        "\n",
        "    # Add an element\n",
        "    def enqueue(self, item):\n",
        "        self.queue.append(item)\n",
        "\n",
        "    # Remove an element\n",
        "    def dequeue(self):\n",
        "        if len(self.queue) < 1:\n",
        "            return None\n",
        "        return self.queue.pop(0)\n",
        "\n",
        "    # Display the queue\n",
        "    def display(self):\n",
        "        print(self.queue)\n",
        "\n",
        "    def size(self):\n",
        "        return len(self.queue)\n",
        "\n",
        "    def peek(self):\n",
        "        return self.queue[0]\n",
        "\n",
        "# Function to get the maximum value from num_queue\n",
        "def getMax(num_queue):\n",
        "    if not num_queue.queue:\n",
        "        return None\n",
        "    return max(num_queue.queue)\n",
        "\n",
        "# Function to get the minimum value from num_queue\n",
        "def getMin(num_queue):\n",
        "    if not num_queue.queue:\n",
        "        return None\n",
        "    return min(num_queue.queue)\n",
        "\n",
        "# Creating an instance of the Queue class\n",
        "num_queue = Queue()\n",
        "\n",
        "# Your student number\n",
        "student_number = \"2021102256\"\n",
        "\n",
        "# Adding digits of your student number to num_queue\n",
        "for digit in student_number:\n",
        "    num_queue.enqueue(int(digit))\n",
        "\n",
        "# Check if the last digit is odd or even and call the appropriate function\n",
        "last_digit = int(student_number[-1])\n",
        "\n",
        "if last_digit % 2 == 1:\n",
        "    result = getMax(num_queue)\n",
        "    print(\"getMax(num_queue) =\", result)\n",
        "else:\n",
        "    result = getMin(num_queue)\n",
        "    print(\"getMin(num_queue) =\", result)"
      ]
    },
    {
      "cell_type": "markdown",
      "metadata": {
        "id": "YkgmP6GwFehV"
      },
      "source": [
        "3. Write a `getOdd()` or `getEven()` function for  **num_queue** `(5 points)`\n",
        "\n",
        "- If your student number ends with an **odd number**, create a `getOdd()` function that will return all odd numbers in **num_queue**\n",
        "- If your student number ends with an **even number**, create a `getEven()` function that will return all even numbers in **num_queue**\n",
        "\n",
        "    **Expected Output for getOdd():**\n",
        "\n",
        "    getOdd(num_queue)\n",
        "\n",
        "    [1, 3, 5]\n",
        "\n",
        "    **Expected Output for getEven():**\n",
        "\n",
        "    getEven(num_queue)\n",
        "\n",
        "    [0, 2, 4, 6]"
      ]
    },
    {
      "cell_type": "code",
      "execution_count": 92,
      "metadata": {
        "id": "2Bc7E1zNFehV",
        "colab": {
          "base_uri": "https://localhost:8080/"
        },
        "outputId": "95925a9b-d4ad-4086-a8fa-80aa30f467c3"
      },
      "outputs": [
        {
          "output_type": "stream",
          "name": "stdout",
          "text": [
            "getEven(num_queue) = [2, 0, 2, 0, 2, 2, 6]\n"
          ]
        }
      ],
      "source": [
        "# put your answer here\n",
        "class Queue:\n",
        "    def __init__(self):\n",
        "        self.queue = []\n",
        "\n",
        "    def enqueue(self, item):\n",
        "        self.queue.append(item)\n",
        "\n",
        "    def dequeue(self):\n",
        "        return self.queue.pop(0) if self.size() > 0 else None\n",
        "\n",
        "    def size(self):\n",
        "        return len(self.queue)\n",
        "\n",
        "    def peek(self):\n",
        "        return self.queue[0] if self.size() > 0 else None\n",
        "\n",
        "def getOdd(num_queue):\n",
        "    return [x for x in num_queue.queue if x % 2 == 1]\n",
        "\n",
        "def getEven(num_queue):\n",
        "    return [x for x in num_queue.queue if x % 2 == 0]\n",
        "\n",
        "num_queue = Queue()\n",
        "student_number = \"2021102256\"\n",
        "\n",
        "for digit in student_number:\n",
        "    num_queue.enqueue(int(digit))\n",
        "\n",
        "last_digit = int(student_number[-1])\n",
        "\n",
        "if last_digit % 2 == 1:\n",
        "    result = getOdd(num_queue)\n",
        "    print(\"getOdd(num_queue) =\", result)\n",
        "else:\n",
        "    result = getEven(num_queue)\n",
        "    print(\"getEven(num_queue) =\", result)\n"
      ]
    },
    {
      "cell_type": "markdown",
      "metadata": {
        "id": "kuzWF5g4FehV"
      },
      "source": [
        "4. Write a `removeDup()` function that will remove all duplicates in **num_queue** `(5 points)`\n",
        "\n",
        "    **Expected Output:**\n",
        "\n",
        "    removeDup(num_queue)\n",
        "\n",
        "    [2,0,1,3,4,5,6]"
      ]
    },
    {
      "cell_type": "code",
      "execution_count": 95,
      "metadata": {
        "id": "I8LeQP8MFehY",
        "colab": {
          "base_uri": "https://localhost:8080/"
        },
        "outputId": "81674673-8187-41a9-f9c0-7493e12b6829"
      },
      "outputs": [
        {
          "output_type": "stream",
          "name": "stdout",
          "text": [
            "After removing duplicates:\n",
            "2 0 1 5 6 \n"
          ]
        }
      ],
      "source": [
        "# put your answer here\n",
        "class Queue:\n",
        "    def __init__(self):\n",
        "        self.queue = []\n",
        "\n",
        "    def enqueue(self, item):\n",
        "        self.queue.append(item)\n",
        "\n",
        "    def dequeue(self):\n",
        "        return self.queue.pop(0) if self.size() > 0 else None\n",
        "\n",
        "    def size(self):\n",
        "        return len(self.queue)\n",
        "\n",
        "    def peek(self):\n",
        "        return self.queue[0] if self.size() > 0 else None\n",
        "\n",
        "def print_queue(num_queue):\n",
        "    for item in num_queue.queue:\n",
        "        print(item, end=' ')\n",
        "    print()\n",
        "\n",
        "def removeDup(num_queue):\n",
        "    unique_elements = []\n",
        "    while num_queue.size() > 0:\n",
        "        item = num_queue.dequeue()\n",
        "        if item not in unique_elements:\n",
        "            unique_elements.append(item)\n",
        "    for item in unique_elements:\n",
        "        num_queue.enqueue(item)\n",
        "\n",
        "# Create num_queue and add digits\n",
        "num_queue = Queue()\n",
        "student_number = \"2021102256\"\n",
        "for digit in student_number:\n",
        "    num_queue.enqueue(int(digit))\n",
        "\n",
        "# Remove duplicates\n",
        "removeDup(num_queue)\n",
        "\n",
        "# Print the modified num_queue\n",
        "print(\"After removing duplicates:\")\n",
        "print_queue(num_queue)\n",
        ""
      ]
    },
    {
      "cell_type": "markdown",
      "metadata": {
        "id": "LVfZTh8YFehZ"
      },
      "source": [
        "## Sort"
      ]
    },
    {
      "cell_type": "markdown",
      "metadata": {
        "id": "bm9lonfzFehZ"
      },
      "source": [
        "**Instructions** ❗️❗️\n",
        "\n",
        "Use the any sorting algoritms"
      ]
    },
    {
      "cell_type": "markdown",
      "metadata": {
        "id": "EJTlxhEdFehZ"
      },
      "source": [
        "1. Using any sorting algorithm, sort the **last 6 digits** of your student number in ascending order `(5 points)`\n",
        "\n",
        "    **Example:**\n",
        "\n",
        "    student_number = [2,0,2,2,6,2,5,1,3,4]\n",
        "\n",
        "    **Expected Output:**\n",
        "\n",
        "    print(student_number)\n",
        "\n",
        "    [2,0,2,2,1,2,3,4,5,6]\n"
      ]
    },
    {
      "cell_type": "code",
      "execution_count": 96,
      "metadata": {
        "id": "MkZKfveOFehZ",
        "colab": {
          "base_uri": "https://localhost:8080/"
        },
        "outputId": "650c4113-a41c-474b-eb5a-d048de1beccf"
      },
      "outputs": [
        {
          "output_type": "stream",
          "name": "stdout",
          "text": [
            "[2, 0, 2, 1, 0, 1, 2, 2, 5, 6]\n"
          ]
        }
      ],
      "source": [
        "# put your answer here\n",
        "# Your student number\n",
        "student_number = [2, 0, 2, 1, 1, 0, 2, 2, 5, 6]\n",
        "\n",
        "# Sort the last 6 digits in ascending order\n",
        "sorted_digits = sorted(student_number[-6:])\n",
        "\n",
        "# Update the original list with sorted digits\n",
        "student_number[-6:] = sorted_digits\n",
        "\n",
        "# Print the updated student_number\n",
        "print(student_number)"
      ]
    },
    {
      "cell_type": "markdown",
      "metadata": {
        "id": "sC2JZRZMFehZ"
      },
      "source": [
        "2. Using your student_number, separately sort the even numbers in **increasing order** and the odd numbers in **decreasing order** `(15 points)`\n",
        "\n",
        "    **Example:**\n",
        "\n",
        "    student_number = [2,0,2,2,1,2,3,4,5,6]\n",
        "\n",
        "    **Expected Output:**\n",
        "\n",
        "    print(student_number)\n",
        "\n",
        "    [0,2,2,2,2,4,6,5,3,1]"
      ]
    },
    {
      "cell_type": "code",
      "execution_count": 97,
      "metadata": {
        "id": "hWOh_ohcFehZ",
        "colab": {
          "base_uri": "https://localhost:8080/"
        },
        "outputId": "041352fa-41be-43af-cd32-a19503fd5c91"
      },
      "outputs": [
        {
          "output_type": "stream",
          "name": "stdout",
          "text": [
            "[0, 0, 2, 2, 2, 2, 6, 5, 1, 1]\n"
          ]
        }
      ],
      "source": [
        "# put your answer here\n",
        "# Your student number\n",
        "student_number = [2, 0, 2, 1, 1, 0, 2, 2, 5, 6]\n",
        "\n",
        "# Separate even and odd numbers, sort them, and recombine\n",
        "sorted_even_numbers = sorted([x for x in student_number if x % 2 == 0])\n",
        "sorted_odd_numbers = sorted([x for x in student_number if x % 2 == 1], reverse=True)\n",
        "sorted_student_number = sorted_even_numbers + sorted_odd_numbers\n",
        "\n",
        "# Print the sorted student_number\n",
        "print(sorted_student_number)"
      ]
    }
  ],
  "metadata": {
    "kernelspec": {
      "display_name": "Python 3",
      "language": "python",
      "name": "python3"
    },
    "language_info": {
      "codemirror_mode": {
        "name": "ipython",
        "version": 3
      },
      "file_extension": ".py",
      "mimetype": "text/x-python",
      "name": "python",
      "nbconvert_exporter": "python",
      "pygments_lexer": "ipython3",
      "version": "3.9.13"
    },
    "orig_nbformat": 4,
    "colab": {
      "provenance": []
    }
  },
  "nbformat": 4,
  "nbformat_minor": 0
}